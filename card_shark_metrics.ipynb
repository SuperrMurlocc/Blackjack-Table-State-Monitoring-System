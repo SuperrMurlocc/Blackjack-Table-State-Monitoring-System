{
 "cells": [
  {
   "cell_type": "code",
   "execution_count": 13,
   "id": "initial_id",
   "metadata": {
    "collapsed": true,
    "ExecuteTime": {
     "end_time": "2024-12-11T19:49:10.400027Z",
     "start_time": "2024-12-11T19:49:10.396804Z"
    }
   },
   "outputs": [],
   "source": [
    "import cv2\n",
    "from cardshark.utils import count_points\n",
    "from cardshark import Vision\n",
    "from time import time\n",
    "import pandas as pd"
   ]
  },
  {
   "cell_type": "code",
   "outputs": [],
   "source": [
    "file = pd.read_csv('db.csv', sep=';')\n",
    "\n",
    "paths = [row[1]['file_path'] for row in file.iterrows()]\n",
    "pointss = [row[1]['labels'] for row in file.iterrows()]\n",
    "\n",
    "expected_pointss = [list(map(int, points.split(','))) for points in pointss]"
   ],
   "metadata": {
    "collapsed": false,
    "ExecuteTime": {
     "end_time": "2024-12-11T19:49:10.407490Z",
     "start_time": "2024-12-11T19:49:10.401318Z"
    }
   },
   "id": "e993d319c8d0daf6",
   "execution_count": 14
  },
  {
   "cell_type": "code",
   "outputs": [
    {
     "name": "stdout",
     "output_type": "stream",
     "text": [
      "For scale 1.0:\n",
      "Accuracy (exact):      96.923 %    Time: 20.570 s  Frames: 65\n",
      "Accuracy (positional): 99.026 %    Average Time per Frame: 0.316 s\n",
      "\n",
      "\n",
      "For scale 0.5:\n",
      "Accuracy (exact):      89.231 %    Time: 14.656 s  Frames: 65\n",
      "Accuracy (positional): 97.403 %    Average Time per Frame: 0.225 s\n",
      "\n",
      "\n",
      "For scale 0.25:\n",
      "Accuracy (exact):      47.692 %    Time: 12.817 s  Frames: 65\n",
      "Accuracy (positional): 75.325 %    Average Time per Frame: 0.197 s\n"
     ]
    }
   ],
   "source": [
    "for scale in [1.0, 0.5, 0.25]:\n",
    "    print(f'For scale {scale}:')\n",
    "    _all = 0\n",
    "    _all_positions = 0\n",
    "    _correct = 0\n",
    "    _correct_positions = 0\n",
    "    \n",
    "    start = time()\n",
    "    for path, expected_points in zip(paths, expected_pointss):\n",
    "        vision = Vision(path, scale=scale)\n",
    "        positions_and_points = [(cv2.boundingRect(contour)[:2], count_points(contents)) for contour, contents in zip(vision.pile_contours, vision.piles_contents)]\n",
    "        \n",
    "        positions_and_points.sort(key=lambda pos_and_point: pos_and_point[0][1])\n",
    "        croupier_points = [positions_and_points[0][1]]\n",
    "        \n",
    "        positions_and_points = positions_and_points[1:]\n",
    "        positions_and_points.sort(key=lambda pos_and_point: pos_and_point[0][0])\n",
    "        \n",
    "        players_points = [pos_and_point[1] for pos_and_point in positions_and_points]\n",
    "        \n",
    "        points = croupier_points + players_points\n",
    "        \n",
    "        _all += 1\n",
    "        _all_positions += len(points)\n",
    "        if points == expected_points:\n",
    "            _correct += 1\n",
    "        _correct_positions += [p == ep for p, ep in zip(points, expected_points)].count(True)\n",
    "        \n",
    "    total_time = time() - start\n",
    "    \n",
    "    \n",
    "    print(f\"Accuracy (exact):      {_correct/_all * 100:.3f} %    Time: {total_time:.3f} s  Frames: {len(paths)}\")\n",
    "    print(f\"Accuracy (positional): {_correct_positions/_all_positions * 100:.3f} %    Average Time per Frame: {total_time / len(paths):.3f} s\")\n",
    "    print()\n",
    "    print()"
   ],
   "metadata": {
    "collapsed": false,
    "ExecuteTime": {
     "end_time": "2024-12-11T19:49:58.455559Z",
     "start_time": "2024-12-11T19:49:10.408119Z"
    }
   },
   "id": "1cdd0546074a3462",
   "execution_count": 15
  }
 ],
 "metadata": {
  "kernelspec": {
   "display_name": "Python 3",
   "language": "python",
   "name": "python3"
  },
  "language_info": {
   "codemirror_mode": {
    "name": "ipython",
    "version": 2
   },
   "file_extension": ".py",
   "mimetype": "text/x-python",
   "name": "python",
   "nbconvert_exporter": "python",
   "pygments_lexer": "ipython2",
   "version": "2.7.6"
  }
 },
 "nbformat": 4,
 "nbformat_minor": 5
}
