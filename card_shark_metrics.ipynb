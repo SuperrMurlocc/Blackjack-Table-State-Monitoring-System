{
 "cells": [
  {
   "cell_type": "code",
   "execution_count": 13,
   "id": "initial_id",
   "metadata": {
    "collapsed": true,
    "ExecuteTime": {
     "end_time": "2024-12-11T19:49:10.400027Z",
     "start_time": "2024-12-11T19:49:10.396804Z"
    }
   },
   "outputs": [],
   "source": [
    "import cv2\n",
    "from cardshark.utils import count_points\n",
    "from cardshark import Vision\n",
    "from time import time\n",
    "import pandas as pd"
   ]
  },
  {
   "cell_type": "code",
   "outputs": [],
   "source": [
    "file = pd.read_csv('db.csv', sep=';')\n",
    "\n",
    "paths = [row[1]['file_path'] for row in file.iterrows()]\n",
    "pointss = [row[1]['labels'] for row in file.iterrows()]\n",
    "\n",
    "expected_pointss = [list(map(int, points.split(','))) for points in pointss]"
   ],
   "metadata": {
    "collapsed": false,
    "ExecuteTime": {
     "end_time": "2024-12-11T19:49:10.407490Z",
     "start_time": "2024-12-11T19:49:10.401318Z"
    }
   },
   "id": "e993d319c8d0daf6",
   "execution_count": 14
  },
  {
   "cell_type": "code",
   "outputs": [
    {
     "name": "stdout",
     "output_type": "stream",
     "text": [
      "For scale 1.0:\n",
      "Accuracy (exact):      96.923 %    Time: 20.570 s  Frames: 65\n",
      "Accuracy (positional): 99.026 %    Average Time per Frame: 0.316 s\n",
      "\n",
      "\n",
      "For scale 0.5:\n",
      "Accuracy (exact):      89.231 %    Time: 14.656 s  Frames: 65\n",
      "Accuracy (positional): 97.403 %    Average Time per Frame: 0.225 s\n",
      "\n",
      "\n",
      "For scale 0.25:\n",
      "Accuracy (exact):      47.692 %    Time: 12.817 s  Frames: 65\n",
      "Accuracy (positional): 75.325 %    Average Time per Frame: 0.197 s\n"
     ]
    }
   ],
   "source": [
    "for scale in [1.0, 0.5, 0.25]:\n",
    "    print(f'For scale {scale}:')\n",
    "    _all = 0\n",
    "    _all_positions = 0\n",
    "    _correct = 0\n",
    "    _correct_positions = 0\n",
    "    \n",
    "    start = time()\n",
    "    for path, expected_points in zip(paths, expected_pointss):\n",
    "        vision = Vision(path, scale=scale)\n",
    "        positions_and_points = [(cv2.boundingRect(contour)[:2], count_points(contents)) for contour, contents in zip(vision.pile_contours, vision.piles_contents)]\n",
    "        \n",
    "        positions_and_points.sort(key=lambda pos_and_point: pos_and_point[0][1])\n",
    "        croupier_points = [positions_and_points[0][1]]\n",
    "        \n",
    "        positions_and_points = positions_and_points[1:]\n",
    "        positions_and_points.sort(key=lambda pos_and_point: pos_and_point[0][0])\n",
    "        \n",
    "        players_points = [pos_and_point[1] for pos_and_point in positions_and_points]\n",
    "        \n",
    "        points = croupier_points + players_points\n",
    "        \n",
    "        _all += 1\n",
    "        _all_positions += len(points)\n",
    "        if points == expected_points:\n",
    "            _correct += 1\n",
    "        _correct_positions += [p == ep for p, ep in zip(points, expected_points)].count(True)\n",
    "        \n",
    "    total_time = time() - start\n",
    "    \n",
    "    \n",
    "    print(f\"Accuracy (exact):      {_correct/_all * 100:.3f} %    Time: {total_time:.3f} s  Frames: {len(paths)}\")\n",
    "    print(f\"Accuracy (positional): {_correct_positions/_all_positions * 100:.3f} %    Average Time per Frame: {total_time / len(paths):.3f} s\")\n",
    "    print()\n",
    "    print()"
   ],
   "metadata": {
    "collapsed": false,
    "ExecuteTime": {
     "end_time": "2024-12-11T19:49:58.455559Z",
     "start_time": "2024-12-11T19:49:10.408119Z"
    }
   },
   "id": "1cdd0546074a3462",
   "execution_count": 15
  },
  {
   "cell_type": "code",
   "outputs": [],
   "source": [
    "import seaborn as sns\n",
    "import numpy as np"
   ],
   "metadata": {
    "collapsed": false,
    "ExecuteTime": {
     "end_time": "2024-12-11T21:11:49.750943Z",
     "start_time": "2024-12-11T21:11:49.748972Z"
    }
   },
   "id": "bea2c24df464be06",
   "execution_count": 26
  },
  {
   "cell_type": "code",
   "outputs": [],
   "source": [
    "acc = np.array([96.923, 89.231, 47.692, 99.026, 97.403, 75.325])\n",
    "time_per_frame = [0.316, 0.225, 0.197, 0.316, 0.225, 0.197]\n",
    "scale = [1.0, 0.5, 0.25, 1.0, 0.5, 0.25]\n",
    "acc_kind = ['exact', 'exact', 'exact', 'positional', 'positional', 'positional']\n",
    "\n",
    "x = list(zip(acc, time_per_frame, scale, acc_kind))"
   ],
   "metadata": {
    "collapsed": false,
    "ExecuteTime": {
     "end_time": "2024-12-11T21:17:12.153609Z",
     "start_time": "2024-12-11T21:17:12.150076Z"
    }
   },
   "id": "e7b12f823fa8c3c9",
   "execution_count": 41
  },
  {
   "cell_type": "code",
   "outputs": [
    {
     "data": {
      "text/plain": "   Accuracy  Time per Frame  Scale Accuracy Kind\n0    96.923           0.316   1.00         exact\n1    89.231           0.225   0.50         exact\n2    47.692           0.197   0.25         exact\n3    99.026           0.316   1.00    positional\n4    97.403           0.225   0.50    positional\n5    75.325           0.197   0.25    positional",
      "text/html": "<div>\n<style scoped>\n    .dataframe tbody tr th:only-of-type {\n        vertical-align: middle;\n    }\n\n    .dataframe tbody tr th {\n        vertical-align: top;\n    }\n\n    .dataframe thead th {\n        text-align: right;\n    }\n</style>\n<table border=\"1\" class=\"dataframe\">\n  <thead>\n    <tr style=\"text-align: right;\">\n      <th></th>\n      <th>Accuracy</th>\n      <th>Time per Frame</th>\n      <th>Scale</th>\n      <th>Accuracy Kind</th>\n    </tr>\n  </thead>\n  <tbody>\n    <tr>\n      <th>0</th>\n      <td>96.923</td>\n      <td>0.316</td>\n      <td>1.00</td>\n      <td>exact</td>\n    </tr>\n    <tr>\n      <th>1</th>\n      <td>89.231</td>\n      <td>0.225</td>\n      <td>0.50</td>\n      <td>exact</td>\n    </tr>\n    <tr>\n      <th>2</th>\n      <td>47.692</td>\n      <td>0.197</td>\n      <td>0.25</td>\n      <td>exact</td>\n    </tr>\n    <tr>\n      <th>3</th>\n      <td>99.026</td>\n      <td>0.316</td>\n      <td>1.00</td>\n      <td>positional</td>\n    </tr>\n    <tr>\n      <th>4</th>\n      <td>97.403</td>\n      <td>0.225</td>\n      <td>0.50</td>\n      <td>positional</td>\n    </tr>\n    <tr>\n      <th>5</th>\n      <td>75.325</td>\n      <td>0.197</td>\n      <td>0.25</td>\n      <td>positional</td>\n    </tr>\n  </tbody>\n</table>\n</div>"
     },
     "execution_count": 43,
     "metadata": {},
     "output_type": "execute_result"
    }
   ],
   "source": [
    "data = pd.DataFrame.from_records(x, columns=['Accuracy', 'Time per Frame', 'Scale', 'Accuracy Kind'])\n",
    "\n",
    "data"
   ],
   "metadata": {
    "collapsed": false,
    "ExecuteTime": {
     "end_time": "2024-12-11T21:17:23.844081Z",
     "start_time": "2024-12-11T21:17:23.838259Z"
    }
   },
   "id": "ad0e25ec79e16bf9",
   "execution_count": 43
  },
  {
   "cell_type": "code",
   "outputs": [
    {
     "data": {
      "text/plain": "<seaborn.axisgrid.FacetGrid at 0x13faba790>"
     },
     "execution_count": 46,
     "metadata": {},
     "output_type": "execute_result"
    },
    {
     "data": {
      "text/plain": "<Figure size 1000x500 with 2 Axes>",
      "image/png": "[encoded data removed]"
     },
     "metadata": {},
     "output_type": "display_data"
    }
   ],
   "source": [
    "sns.relplot(data=data, x='Scale', y='Accuracy', col='Accuracy Kind', kind=\"line\")"
   ],
   "metadata": {
    "collapsed": false,
    "ExecuteTime": {
     "end_time": "2024-12-11T21:17:58.483695Z",
     "start_time": "2024-12-11T21:17:58.323540Z"
    }
   },
   "id": "2f319cb7f49b4948",
   "execution_count": 46
  }
 ],
 "metadata": {
  "kernelspec": {
   "display_name": "Python 3",
   "language": "python",
   "name": "python3"
  },
  "language_info": {
   "codemirror_mode": {
    "name": "ipython",
    "version": 2
   },
   "file_extension": ".py",
   "mimetype": "text/x-python",
   "name": "python",
   "nbconvert_exporter": "python",
   "pygments_lexer": "ipython2",
   "version": "2.7.6"
  }
 },
 "nbformat": 4,
 "nbformat_minor": 5
}
