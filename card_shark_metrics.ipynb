{
 "cells": [
  {
   "cell_type": "code",
   "execution_count": 1,
   "id": "initial_id",
   "metadata": {
    "collapsed": true,
    "ExecuteTime": {
     "end_time": "2024-12-30T00:51:46.010930Z",
     "start_time": "2024-12-30T00:51:42.184128Z"
    }
   },
   "outputs": [],
   "source": [
    "import cv2\n",
    "from cardshark.utils import count_points\n",
    "from cardshark import Vision\n",
    "from time import time\n",
    "import pandas as pd"
   ]
  },
  {
   "cell_type": "code",
   "outputs": [],
   "source": [
    "file = pd.read_csv('db.csv', sep=';')\n",
    "\n",
    "paths = [row[1]['file_path'] for row in file.iterrows()]\n",
    "pointss = [row[1]['labels'] for row in file.iterrows()]\n",
    "\n",
    "expected_pointss = [list(map(int, points.split(','))) for points in pointss]"
   ],
   "metadata": {
    "collapsed": false,
    "ExecuteTime": {
     "end_time": "2024-12-30T00:51:46.018320Z",
     "start_time": "2024-12-30T00:51:46.012042Z"
    }
   },
   "id": "e993d319c8d0daf6",
   "execution_count": 2
  },
  {
   "cell_type": "code",
   "outputs": [
    {
     "name": "stdout",
     "output_type": "stream",
     "text": [
      "For scale 1.0:\n",
      "Accuracy (exact):      100.000 %    Time: 19.871 s  Frames: 64\n",
      "Accuracy (positional): 100.000 %    Average Time per Frame: 0.310 s\n",
      "\n",
      "\n",
      "For scale 0.75:\n",
      "Accuracy (exact):      100.000 %    Time: 18.085 s  Frames: 64\n",
      "Accuracy (positional): 100.000 %    Average Time per Frame: 0.283 s\n",
      "\n",
      "\n",
      "For scale 0.5:\n",
      "Accuracy (exact):      96.875 %    Time: 14.724 s  Frames: 64\n",
      "Accuracy (positional): 99.340 %    Average Time per Frame: 0.230 s\n",
      "\n",
      "\n",
      "For scale 0.25:\n",
      "Accuracy (exact):      43.750 %    Time: 13.184 s  Frames: 64\n",
      "Accuracy (positional): 79.538 %    Average Time per Frame: 0.206 s\n",
      "\n"
     ]
    }
   ],
   "source": [
    "for scale in [1.0, 0.75, 0.5, 0.25]:\n",
    "    print(f'For scale {scale}:')\n",
    "    _all = 0\n",
    "    _all_positions = 0\n",
    "    _correct = 0\n",
    "    _correct_positions = 0\n",
    "    \n",
    "    start = time()\n",
    "    for path, expected_points in zip(paths, expected_pointss):\n",
    "        vision = Vision(path, scale=scale)\n",
    "        positions_and_points = [(cv2.boundingRect(contour)[:2], count_points(contents)) for contour, contents in zip(vision.pile_contours, vision.piles_contents)]\n",
    "        \n",
    "        positions_and_points.sort(key=lambda pos_and_point: pos_and_point[0][1])\n",
    "        croupier_points = [positions_and_points[0][1]]\n",
    "        \n",
    "        positions_and_points = positions_and_points[1:]\n",
    "        positions_and_points.sort(key=lambda pos_and_point: pos_and_point[0][0])\n",
    "        \n",
    "        players_points = [pos_and_point[1] for pos_and_point in positions_and_points]\n",
    "        \n",
    "        points = croupier_points + players_points\n",
    "        \n",
    "        _all += 1\n",
    "        _all_positions += len(points)            \n",
    "        if points == expected_points:\n",
    "            _correct += 1\n",
    "        # else:\n",
    "        #     print(f'Path: {path}, expected: {expected_points} but got: {points}')\n",
    "        _correct_positions += [p == ep for p, ep in zip(points, expected_points)].count(True)\n",
    "        \n",
    "    total_time = time() - start\n",
    "    \n",
    "    \n",
    "    print(f\"Accuracy (exact):      {_correct/_all * 100:.3f} %    Time: {total_time:.3f} s  Frames: {len(paths)}\")\n",
    "    print(f\"Accuracy (positional): {_correct_positions/_all_positions * 100:.3f} %    Average Time per Frame: {total_time / len(paths):.3f} s\")\n",
    "    print()\n",
    "    print()"
   ],
   "metadata": {
    "collapsed": false,
    "ExecuteTime": {
     "end_time": "2024-12-30T00:52:51.889092Z",
     "start_time": "2024-12-30T00:51:46.018961Z"
    }
   },
   "id": "1cdd0546074a3462",
   "execution_count": 3
  }
 ],
 "metadata": {
  "kernelspec": {
   "display_name": "Python 3",
   "language": "python",
   "name": "python3"
  },
  "language_info": {
   "codemirror_mode": {
    "name": "ipython",
    "version": 2
   },
   "file_extension": ".py",
   "mimetype": "text/x-python",
   "name": "python",
   "nbconvert_exporter": "python",
   "pygments_lexer": "ipython2",
   "version": "2.7.6"
  }
 },
 "nbformat": 4,
 "nbformat_minor": 5
}
